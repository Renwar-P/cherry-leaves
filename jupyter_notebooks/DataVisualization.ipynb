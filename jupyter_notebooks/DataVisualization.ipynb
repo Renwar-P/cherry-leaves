{
 "cells": [
  {
   "cell_type": "markdown",
   "id": "e2ae2553-12f7-415f-979b-b2fbdf75e8ea",
   "metadata": {},
   "source": [
    "# Data Visualization Notebook"
   ]
  },
  {
   "cell_type": "markdown",
   "id": "6d343b52-18f2-4628-af32-c3558585c3a3",
   "metadata": {},
   "source": [
    "### Objectives"
   ]
  },
  {
   "cell_type": "markdown",
   "id": "f8582479-7d33-4da3-8bf8-9bbd23fa6787",
   "metadata": {},
   "source": [
    "* **Answer business requirement 1**:\n",
    " - The client is interested in conducting a study to visually differentiate a healthy cherry leaf from one with powdery mildew."
   ]
  },
  {
   "cell_type": "markdown",
   "id": "4a7a1035-471c-44c9-bff3-3346730d734c",
   "metadata": {},
   "source": [
    "### Inputs\n",
    "* inputs/cherry-leaves/test\n",
    "* inputs/cherry-leaves/train\n",
    "* inputs/cherry-leaves/validation"
   ]
  },
  {
   "cell_type": "markdown",
   "id": "2c31f7fb-18aa-43e9-b833-5b6e00f1ef3e",
   "metadata": {},
   "source": [
    "### Outputs"
   ]
  },
  {
   "cell_type": "markdown",
   "id": "ba4eaf08-f75a-400f-8dbb-5e80c68a0a3e",
   "metadata": {},
   "source": [
    "* Image shape embeddings file.\n",
    "* Mean and variability of images per label plot.\n",
    "* Plot to distinguish the contrast between mildew-contained and uninfected leaf images.\n",
    "* Generate code that answers business requirement 1 and can be used to build an image montage on the Streamlit dashboard."
   ]
  },
  {
   "cell_type": "markdown",
   "id": "48ac28bd-f849-48f2-ac89-27f738aecaf9",
   "metadata": {},
   "source": [
    "---"
   ]
  },
  {
   "cell_type": "markdown",
   "id": "a4757be5-bb8c-4a33-a9bc-42d7b1fb1254",
   "metadata": {},
   "source": [
    "# Set Data Directory"
   ]
  },
  {
   "cell_type": "markdown",
   "id": "afe83b01-9a31-4212-b8e1-61b3f11c4cb0",
   "metadata": {},
   "source": [
    "---"
   ]
  },
  {
   "cell_type": "markdown",
   "id": "774ea0ae-5ceb-4409-881b-3c29a40e270b",
   "metadata": {},
   "source": [
    "### Import libraries"
   ]
  },
  {
   "cell_type": "code",
   "execution_count": 1,
   "id": "9b6e34cc-e048-43a3-9c05-215aa19ed191",
   "metadata": {},
   "outputs": [
    {
     "name": "stderr",
     "output_type": "stream",
     "text": [
      "Matplotlib is building the font cache; this may take a moment.\n"
     ]
    }
   ],
   "source": [
    "import os\n",
    "import pandas as pd\n",
    "import numpy as np\n",
    "import matplotlib.pyplot as plt\n",
    "import seaborn as sns\n",
    "import joblib\n",
    "sns.set_style(\"white\")\n",
    "from matplotlib.image import imread"
   ]
  },
  {
   "cell_type": "markdown",
   "id": "31531b6a-9bbb-455d-ad48-be662c964630",
   "metadata": {},
   "source": [
    "### Set working directories"
   ]
  },
  {
   "cell_type": "code",
   "execution_count": 3,
   "id": "0615daf3-3548-4bc6-a50b-6a033e17e168",
   "metadata": {},
   "outputs": [],
   "source": [
    "cwd= os.getcwd()"
   ]
  },
  {
   "cell_type": "code",
   "execution_count": 4,
   "id": "b7a59eba-c0c1-4991-a0db-5dfcebdac0a7",
   "metadata": {},
   "outputs": [
    {
     "name": "stdout",
     "output_type": "stream",
     "text": [
      "You set a new current directory\n"
     ]
    }
   ],
   "source": [
    "os.chdir(os.path.dirname('/workspaces/cherry-leaves'))\n",
    "print(\"You set a new current directory\")"
   ]
  },
  {
   "cell_type": "code",
   "execution_count": 5,
   "id": "127a99c6-b6ef-4354-9102-04a59e5692f6",
   "metadata": {},
   "outputs": [
    {
     "data": {
      "text/plain": [
       "'/workspaces'"
      ]
     },
     "execution_count": 5,
     "metadata": {},
     "output_type": "execute_result"
    }
   ],
   "source": [
    "current_dir = os.getcwd()\n",
    "current_dir"
   ]
  },
  {
   "cell_type": "markdown",
   "id": "fd8eb622-a4b1-477e-828c-21e3924962b4",
   "metadata": {},
   "source": [
    "### Setup the input directories"
   ]
  },
  {
   "cell_type": "markdown",
   "id": "723590cb-adb9-4696-9f17-f4af82bf66ad",
   "metadata": {},
   "source": [
    "Set train, validation and test paths."
   ]
  },
  {
   "cell_type": "code",
   "execution_count": 6,
   "id": "5dc16868-bb0c-4e3c-b4ae-c9e057b54192",
   "metadata": {},
   "outputs": [],
   "source": [
    "my_data_dir = '/workspaces/cherry-leaves/inputs/cherry-leaves'\n",
    "train_path = my_data_dir + '/train'\n",
    "val_path = my_data_dir + '/validation'\n",
    "test_path = my_data_dir + '/test'"
   ]
  },
  {
   "cell_type": "markdown",
   "id": "ad8bf2e9-7716-4805-bbac-a6f830b71740",
   "metadata": {},
   "source": []
  },
  {
   "cell_type": "code",
   "execution_count": null,
   "id": "bb333402-ab4d-44d6-898c-6f3b80ef3bde",
   "metadata": {},
   "outputs": [],
   "source": []
  },
  {
   "cell_type": "markdown",
   "id": "d9de9622-01f0-4b45-909b-6220b810c33c",
   "metadata": {},
   "source": []
  },
  {
   "cell_type": "code",
   "execution_count": null,
   "id": "b3bc93f8-61e1-46b1-b3ca-dc33989fcaa9",
   "metadata": {},
   "outputs": [],
   "source": []
  },
  {
   "cell_type": "markdown",
   "id": "68d28e6c-ed36-433e-a826-a6df902f03a0",
   "metadata": {},
   "source": [
    "---"
   ]
  },
  {
   "cell_type": "markdown",
   "id": "a4c54e47-a370-461e-82f4-ee006fb4b85d",
   "metadata": {},
   "source": []
  },
  {
   "cell_type": "markdown",
   "id": "56957935-a944-47f4-9212-1e0132870321",
   "metadata": {},
   "source": [
    "---"
   ]
  },
  {
   "cell_type": "code",
   "execution_count": null,
   "id": "10a73b81-1f63-469d-afc0-3669ae074bd8",
   "metadata": {},
   "outputs": [],
   "source": []
  }
 ],
 "metadata": {
  "kernelspec": {
   "display_name": "Python 3 (ipykernel)",
   "language": "python",
   "name": "python3"
  },
  "language_info": {
   "codemirror_mode": {
    "name": "ipython",
    "version": 3
   },
   "file_extension": ".py",
   "mimetype": "text/x-python",
   "name": "python",
   "nbconvert_exporter": "python",
   "pygments_lexer": "ipython3",
   "version": "3.8.12"
  }
 },
 "nbformat": 4,
 "nbformat_minor": 5
}
