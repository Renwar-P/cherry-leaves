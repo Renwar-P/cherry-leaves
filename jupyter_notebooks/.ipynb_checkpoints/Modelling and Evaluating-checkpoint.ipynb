{
 "cells": [
  {
   "cell_type": "markdown",
   "id": "205bf313-8df4-4621-bd22-e2c92cda3f47",
   "metadata": {},
   "source": [
    "# Modelling and Evaluation Notebook"
   ]
  },
  {
   "cell_type": "markdown",
   "id": "48188d96-8e79-4d0b-9204-5197d7060ab0",
   "metadata": {},
   "source": [
    "## Objectives "
   ]
  },
  {
   "cell_type": "markdown",
   "id": "ca2e0926-8fcd-4de3-a809-5566f4b7effa",
   "metadata": {},
   "source": [
    "* Answer business requirement 2:\n",
    "    * The client is interested in predicting if a cherry leaf is healthy or contains powdery mildew."
   ]
  },
  {
   "cell_type": "markdown",
   "id": "3066cdd2-a3ed-4836-afbb-dd4de36d4041",
   "metadata": {},
   "source": [
    "## Inputs"
   ]
  },
  {
   "cell_type": "markdown",
   "id": "29402c22-7781-44fd-b61e-2e4f9461ea7d",
   "metadata": {},
   "source": [
    "* inputs/cherry-leaves/test\n",
    "* inputs/cherry-leaves/validation\n",
    "* inputs/cherry-leaves/train\n",
    "* image shape embeddings"
   ]
  },
  {
   "cell_type": "markdown",
   "id": "40410f25-0d4b-4489-9bcc-eab0821e1667",
   "metadata": {},
   "source": [
    "## Outputs"
   ]
  },
  {
   "cell_type": "markdown",
   "id": "6405fe9d-6040-4db9-ba27-b424eea14f3a",
   "metadata": {},
   "source": [
    "* Images distribution plot in train, validation, and test set.\n",
    "* Image augmentation.\n",
    "* Class indices to change prediction inference in labels.\n",
    "* Machine learning model creation and training.\n",
    "* Save model.\n",
    "* Learning curve plot for model performance.\n",
    "* Model evaluation on pickle file.\n",
    "* Prediction on the random image file."
   ]
  },
  {
   "cell_type": "markdown",
   "id": "f2d223ec-b5ba-4115-a2b6-68f131046284",
   "metadata": {},
   "source": [
    "---"
   ]
  },
  {
   "cell_type": "markdown",
   "id": "20967e6e-eb9b-4e82-83cf-59b5fe350a1e",
   "metadata": {},
   "source": [
    "## Import regular packages"
   ]
  },
  {
   "cell_type": "code",
   "execution_count": null,
   "id": "4c3c9979-01bc-42be-86ba-a4d0fdeb2f42",
   "metadata": {},
   "outputs": [],
   "source": [
    "import os\n",
    "import pandas as pd\n",
    "import numpy as np\n",
    "import matplotlib.pyplot as plt\n",
    "import seaborn as sns\n",
    "from matplotlib.image import imread"
   ]
  },
  {
   "cell_type": "markdown",
   "id": "c0069e1e-8805-4508-b28c-b0dd66b7b799",
   "metadata": {},
   "source": [
    "---"
   ]
  },
  {
   "cell_type": "markdown",
   "id": "09f336f7-23e2-4be8-963f-c30a8600632a",
   "metadata": {},
   "source": [
    "## Set up working directory"
   ]
  },
  {
   "cell_type": "code",
   "execution_count": null,
   "id": "fa885555-ca17-4dad-8c82-c9717c2909d8",
   "metadata": {},
   "outputs": [],
   "source": [
    "cwd= os.getcwd()"
   ]
  },
  {
   "cell_type": "code",
   "execution_count": null,
   "id": "004b0433-a006-4936-96e1-e5b738ddb05d",
   "metadata": {},
   "outputs": [],
   "source": [
    "os.chdir('/workspaces/cherry-leaves')\n",
    "print(\"You set a new current directory\")"
   ]
  },
  {
   "cell_type": "code",
   "execution_count": null,
   "id": "17614939-f4c7-4643-b37a-b5dbb5974572",
   "metadata": {},
   "outputs": [],
   "source": [
    "work_dir = os.getcwd()\n",
    "work_dir"
   ]
  },
  {
   "cell_type": "markdown",
   "id": "f725f366-11b4-4c84-b019-ac2d1e15cad3",
   "metadata": {},
   "source": [
    "---"
   ]
  },
  {
   "cell_type": "markdown",
   "id": "bd6e8ff1-29c1-45d1-8494-e682abafd66b",
   "metadata": {},
   "source": [
    "## Setup input directory"
   ]
  },
  {
   "cell_type": "code",
   "execution_count": null,
   "id": "3040e6d9-4063-4d58-9eb8-e809594d3ec1",
   "metadata": {},
   "outputs": [],
   "source": []
  }
 ],
 "metadata": {
  "kernelspec": {
   "display_name": "Python 3 (ipykernel)",
   "language": "python",
   "name": "python3"
  },
  "language_info": {
   "codemirror_mode": {
    "name": "ipython",
    "version": 3
   },
   "file_extension": ".py",
   "mimetype": "text/x-python",
   "name": "python",
   "nbconvert_exporter": "python",
   "pygments_lexer": "ipython3",
   "version": "3.8.12"
  }
 },
 "nbformat": 4,
 "nbformat_minor": 5
}
